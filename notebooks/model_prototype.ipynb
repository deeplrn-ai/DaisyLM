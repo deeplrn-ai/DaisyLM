{
 "cells": [
  {
   "cell_type": "code",
   "execution_count": 1,
   "id": "913ca3ab-a4c3-400c-9be1-bc617dd636fc",
   "metadata": {},
   "outputs": [],
   "source": [
    "%load_ext autoreload\n",
    "%autoreload 2"
   ]
  },
  {
   "cell_type": "code",
   "execution_count": 4,
   "id": "9a4453cf-919d-4cc4-8b22-ad128952b9b9",
   "metadata": {},
   "outputs": [],
   "source": [
    "import torch\n",
    "from torch import nn\n",
    "import numpy as np"
   ]
  },
  {
   "cell_type": "code",
   "execution_count": 5,
   "id": "a962c84e-e1f7-4d33-b5eb-1f9e508fdab9",
   "metadata": {},
   "outputs": [],
   "source": [
    "class ModelConfig:\n",
    "    vocab_size = 32000\n",
    "    d_model = 768\n",
    "    n_layers = 12\n",
    "    n_heads = 12\n",
    "    d_head = 64\n",
    "    intermediate_size = 3072\n",
    "    d_latent = 32\n",
    "    d_rope_sub = 16"
   ]
  },
  {
   "cell_type": "code",
   "execution_count": 6,
   "id": "cfc59ede-d7ff-4e80-9931-2333d5e16ccc",
   "metadata": {},
   "outputs": [],
   "source": [
    "class RMSNorm(nn.Module):\n",
    "    def __init__(self, features: int, eps: int = 1e-6):\n",
    "        super().__init__()\n",
    "        self.eps = eps\n",
    "        self.weight = nn.Parameter(torch.ones(features))\n",
    "\n",
    "    def __call__(self, x):\n",
    "        norm = (x.pow(2).mean(-1, keepdims=True) + self.eps).sqrt()\n",
    "        out = x / norm\n",
    "        return out * self.weight"
   ]
  },
  {
   "cell_type": "code",
   "execution_count": 28,
   "id": "3e1cca0b-beb1-4131-a714-f5d6474fc5dd",
   "metadata": {},
   "outputs": [],
   "source": [
    "def precompute_freq_cis(dim: int, seq_len: int, theta: float = 10000.0):\n",
    "    base_freqs = 1.0 / (theta ** (torch.arange(0, dim, 2)[: (dim // 2)].float() / dim))\n",
    "    t = torch.arange(seq_len, device=base_freqs.device, dtype=torch.float32)\n",
    "    freqs = torch.outer(t, base_freqs)\n",
    "    freqs_cis = torch.polar(torch.ones_like(freqs), freqs)\n",
    "    return freqs_cis"
   ]
  },
  {
   "cell_type": "code",
   "execution_count": 109,
   "id": "da965c71-3c88-451c-8482-e696213d7842",
   "metadata": {},
   "outputs": [],
   "source": [
    "def apply_rotary_emb(q: torch.Tensor, k: torch.Tensor, freqs_cis: torch.Tensor):\n",
    "    q_c = torch.view_as_complex(q.float().reshape(q.shape[:-1] + (q.shape[-1] // 2, 2)))\n",
    "    k_c = torch.view_as_complex(k.float().reshape(k.shape[:-1] + (k.shape[-1] // 2, 2)))\n",
    "    seq_len = q.shape[2]\n",
    "    freqs_cis = freqs_cis[None, None, :seq_len, :]\n",
    "\n",
    "    q_r = torch.view_as_real(q_b * freq_cis).flatten(3)\n",
    "    k_r = torch.view_as_real(k_b * freq_cis).flatten(3)\n",
    "\n",
    "    return q_r.type_as(q), k_r.type_as(k)"
   ]
  },
  {
   "cell_type": "code",
   "execution_count": null,
   "id": "c118ae01-f26e-48ea-b663-f1f2a39e8a4a",
   "metadata": {},
   "outputs": [],
   "source": [
    "def MLA"
   ]
  }
 ],
 "metadata": {
  "kernelspec": {
   "display_name": "DaisyLM venv",
   "language": "python",
   "name": "venv"
  },
  "language_info": {
   "codemirror_mode": {
    "name": "ipython",
    "version": 3
   },
   "file_extension": ".py",
   "mimetype": "text/x-python",
   "name": "python",
   "nbconvert_exporter": "python",
   "pygments_lexer": "ipython3",
   "version": "3.13.3"
  }
 },
 "nbformat": 4,
 "nbformat_minor": 5
}
