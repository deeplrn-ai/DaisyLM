{
 "cells": [
  {
   "cell_type": "code",
   "execution_count": 2,
   "id": "e184bda4-0c03-4ce4-93ae-d89e863e0384",
   "metadata": {},
   "outputs": [],
   "source": [
    "import jax\n",
    "from jax import random"
   ]
  },
  {
   "cell_type": "code",
   "execution_count": null,
   "id": "f208b829-518a-457d-be7f-2ecba76f471d",
   "metadata": {},
   "outputs": [],
   "source": [
    "def he_init("
   ]
  }
 ],
 "metadata": {
  "kernelspec": {
   "display_name": "DaisyLM venv",
   "language": "python",
   "name": "venv"
  },
  "language_info": {
   "codemirror_mode": {
    "name": "ipython",
    "version": 3
   },
   "file_extension": ".py",
   "mimetype": "text/x-python",
   "name": "python",
   "nbconvert_exporter": "python",
   "pygments_lexer": "ipython3",
   "version": "3.13.3"
  }
 },
 "nbformat": 4,
 "nbformat_minor": 5
}
